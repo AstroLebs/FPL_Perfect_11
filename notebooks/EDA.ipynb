{
 "cells": [
  {
   "cell_type": "code",
   "execution_count": 1,
   "id": "dbf70e07-220a-450a-8592-7ce76435549f",
   "metadata": {},
   "outputs": [],
   "source": [
    "import pandas as pd\n",
    "import os"
   ]
  },
  {
   "cell_type": "code",
   "execution_count": 2,
   "id": "e657938c-6321-45d3-9766-0966a8aeacec",
   "metadata": {},
   "outputs": [
    {
     "data": {
      "text/plain": [
       "'/home/caleb/Projects/FPL_Perfect_11/notebooks'"
      ]
     },
     "execution_count": 2,
     "metadata": {},
     "output_type": "execute_result"
    }
   ],
   "source": [
    "os.getcwd()"
   ]
  },
  {
   "cell_type": "code",
   "execution_count": 3,
   "id": "ff115699-bb7e-4fff-a533-6006c87aa9b3",
   "metadata": {},
   "outputs": [
    {
     "data": {
      "text/plain": [
       "'..'"
      ]
     },
     "execution_count": 3,
     "metadata": {},
     "output_type": "execute_result"
    }
   ],
   "source": [
    "os.path.pardir"
   ]
  },
  {
   "cell_type": "code",
   "execution_count": 19,
   "id": "d1bc3442-e290-472b-96d2-d29830eaf01b",
   "metadata": {},
   "outputs": [
    {
     "data": {
      "text/plain": [
       "['', 'home', 'caleb', 'Projects', 'FPL_Perfect_11', 'data']"
      ]
     },
     "execution_count": 19,
     "metadata": {},
     "output_type": "execute_result"
    }
   ],
   "source": [
    "os.getcwd().split(\"/\")[:-1]."
   ]
  },
  {
   "cell_type": "code",
   "execution_count": 4,
   "id": "c4117d7e-5a18-4dba-8ccb-9f49e74c3a56",
   "metadata": {},
   "outputs": [],
   "source": [
    "data_raw = os.chdir(os.path.pardir + \"/data/raw/\")"
   ]
  },
  {
   "cell_type": "code",
   "execution_count": 9,
   "id": "d3ff7ebd-5170-4ca3-bc8f-d950cba63430",
   "metadata": {},
   "outputs": [],
   "source": [
    "labels = pd.read_json('FPL_Data_element_stats_2024.json')"
   ]
  },
  {
   "cell_type": "code",
   "execution_count": 10,
   "id": "953af617-07ce-4a65-94c7-fb0105c76bcf",
   "metadata": {},
   "outputs": [],
   "source": [
    "positions = pd.read_json('FPL_Data_element_types_2024.json')"
   ]
  },
  {
   "cell_type": "code",
   "execution_count": 11,
   "id": "935ce74c-a2e9-4d66-86b4-f9a3e4adb344",
   "metadata": {},
   "outputs": [],
   "source": [
    "players = pd.read_json('FPL_Data_elements_2024.json')"
   ]
  },
  {
   "cell_type": "code",
   "execution_count": 12,
   "id": "6b553392-d2b2-4beb-8a69-bc6e68021d68",
   "metadata": {},
   "outputs": [],
   "source": [
    "gameweeks = pd.read_json('FPL_Data_events_2024.json')"
   ]
  },
  {
   "cell_type": "code",
   "execution_count": 13,
   "id": "5e0c9e8a-a7e1-4b1a-a855-855cc6d07b09",
   "metadata": {},
   "outputs": [],
   "source": [
    "phases = pd.read_json('FPL_Data_phases_2024.json')"
   ]
  },
  {
   "cell_type": "code",
   "execution_count": 14,
   "id": "cc9613e0-15a0-4755-8154-aadf50b1fe9c",
   "metadata": {},
   "outputs": [],
   "source": [
    "teams = pd.read_json('FPL_Data_teams_2024.json')"
   ]
  },
  {
   "cell_type": "code",
   "execution_count": 41,
   "id": "34523434-0035-473a-b747-7b7a25e29ea9",
   "metadata": {},
   "outputs": [
    {
     "data": {
      "text/html": [
       "<div>\n",
       "<style scoped>\n",
       "    .dataframe tbody tr th:only-of-type {\n",
       "        vertical-align: middle;\n",
       "    }\n",
       "\n",
       "    .dataframe tbody tr th {\n",
       "        vertical-align: top;\n",
       "    }\n",
       "\n",
       "    .dataframe thead th {\n",
       "        text-align: right;\n",
       "    }\n",
       "</style>\n",
       "<table border=\"1\" class=\"dataframe\">\n",
       "  <thead>\n",
       "    <tr style=\"text-align: right;\">\n",
       "      <th></th>\n",
       "      <th>id</th>\n",
       "      <th>plural_name</th>\n",
       "      <th>plural_name_short</th>\n",
       "      <th>singular_name</th>\n",
       "      <th>singular_name_short</th>\n",
       "      <th>squad_select</th>\n",
       "      <th>squad_min_play</th>\n",
       "      <th>squad_max_play</th>\n",
       "      <th>ui_shirt_specific</th>\n",
       "      <th>sub_positions_locked</th>\n",
       "      <th>element_count</th>\n",
       "    </tr>\n",
       "  </thead>\n",
       "  <tbody>\n",
       "    <tr>\n",
       "      <th>0</th>\n",
       "      <td>1</td>\n",
       "      <td>Goalkeepers</td>\n",
       "      <td>GKP</td>\n",
       "      <td>Goalkeeper</td>\n",
       "      <td>GKP</td>\n",
       "      <td>2</td>\n",
       "      <td>1</td>\n",
       "      <td>1</td>\n",
       "      <td>True</td>\n",
       "      <td>[12]</td>\n",
       "      <td>86</td>\n",
       "    </tr>\n",
       "    <tr>\n",
       "      <th>1</th>\n",
       "      <td>2</td>\n",
       "      <td>Defenders</td>\n",
       "      <td>DEF</td>\n",
       "      <td>Defender</td>\n",
       "      <td>DEF</td>\n",
       "      <td>5</td>\n",
       "      <td>3</td>\n",
       "      <td>5</td>\n",
       "      <td>False</td>\n",
       "      <td>[]</td>\n",
       "      <td>243</td>\n",
       "    </tr>\n",
       "    <tr>\n",
       "      <th>2</th>\n",
       "      <td>3</td>\n",
       "      <td>Midfielders</td>\n",
       "      <td>MID</td>\n",
       "      <td>Midfielder</td>\n",
       "      <td>MID</td>\n",
       "      <td>5</td>\n",
       "      <td>2</td>\n",
       "      <td>5</td>\n",
       "      <td>False</td>\n",
       "      <td>[]</td>\n",
       "      <td>324</td>\n",
       "    </tr>\n",
       "    <tr>\n",
       "      <th>3</th>\n",
       "      <td>4</td>\n",
       "      <td>Forwards</td>\n",
       "      <td>FWD</td>\n",
       "      <td>Forward</td>\n",
       "      <td>FWD</td>\n",
       "      <td>3</td>\n",
       "      <td>1</td>\n",
       "      <td>3</td>\n",
       "      <td>False</td>\n",
       "      <td>[]</td>\n",
       "      <td>98</td>\n",
       "    </tr>\n",
       "  </tbody>\n",
       "</table>\n",
       "</div>"
      ],
      "text/plain": [
       "   id  plural_name plural_name_short singular_name singular_name_short  \\\n",
       "0   1  Goalkeepers               GKP    Goalkeeper                 GKP   \n",
       "1   2    Defenders               DEF      Defender                 DEF   \n",
       "2   3  Midfielders               MID    Midfielder                 MID   \n",
       "3   4     Forwards               FWD       Forward                 FWD   \n",
       "\n",
       "   squad_select  squad_min_play  squad_max_play  ui_shirt_specific  \\\n",
       "0             2               1               1               True   \n",
       "1             5               3               5              False   \n",
       "2             5               2               5              False   \n",
       "3             3               1               3              False   \n",
       "\n",
       "  sub_positions_locked  element_count  \n",
       "0                 [12]             86  \n",
       "1                   []            243  \n",
       "2                   []            324  \n",
       "3                   []             98  "
      ]
     },
     "execution_count": 41,
     "metadata": {},
     "output_type": "execute_result"
    }
   ],
   "source": [
    "positions"
   ]
  },
  {
   "cell_type": "code",
   "execution_count": 30,
   "id": "134402e9-79f8-48cc-ac5b-007c4ea42154",
   "metadata": {},
   "outputs": [
    {
     "name": "stdout",
     "output_type": "stream",
     "text": [
      "chance_of_playing_next_round True\n",
      "chance_of_playing_this_round True\n",
      "news_added True\n",
      "squad_number True\n",
      "corners_and_indirect_freekicks_order True\n",
      "direct_freekicks_order True\n",
      "penalties_order True\n"
     ]
    }
   ],
   "source": [
    "for i in players.columns:\n",
    "    if players[i].isna().any():\n",
    "        print(i, players[i].isna().any())"
   ]
  },
  {
   "cell_type": "code",
   "execution_count": null,
   "id": "7e843bef-7eec-4737-83f0-8993df5882fa",
   "metadata": {},
   "outputs": [],
   "source": []
  }
 ],
 "metadata": {
  "kernelspec": {
   "display_name": "FPL_Perfect_11",
   "language": "python",
   "name": "fpl_perfect_11"
  },
  "language_info": {
   "codemirror_mode": {
    "name": "ipython",
    "version": 3
   },
   "file_extension": ".py",
   "mimetype": "text/x-python",
   "name": "python",
   "nbconvert_exporter": "python",
   "pygments_lexer": "ipython3",
   "version": "3.11.6"
  }
 },
 "nbformat": 4,
 "nbformat_minor": 5
}
